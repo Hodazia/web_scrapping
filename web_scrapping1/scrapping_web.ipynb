{
 "cells": [
  {
   "cell_type": "markdown",
   "id": "5f64125f",
   "metadata": {},
   "source": [
    "## Top Repositories for GitHub"
   ]
  },
  {
   "cell_type": "markdown",
   "id": "aa4d7e85",
   "metadata": {},
   "source": [
    "## TODO\n",
    "- Introduction about web scrapping\n",
    "- Introduction about GitHub and the python statement\n",
    "- Tools used are Python, request, Beautiful Soup, Pandas"
   ]
  },
  {
   "cell_type": "markdown",
   "id": "dabac3cb",
   "metadata": {},
   "source": [
    "## Pick a Website and your objective"
   ]
  },
  {
   "cell_type": "markdown",
   "id": "f2e091b8",
   "metadata": {},
   "source": [
    "### Project Outline\n",
    "\n",
    "- We're going to scrap https://github.com/topics\n",
    "- We'll get a list of topics. For each topic, we'll get topic title,topic page url, topic description, for each topic we'll get top 25 repositories.\n",
    "- For each repository we'll grab the repo name,username, stars and repo url\n",
    "- For each topic we'll create a csv file in the following format\n",
    "```\n",
    "Repo Name, Username, Stars, URL\n",
    "three.js, mrdoob, 10100, https://github.com/mrdoob/three.js\n",
    "\n",
    "```\n"
   ]
  },
  {
   "cell_type": "markdown",
   "id": "46a07332",
   "metadata": {},
   "source": [
    "## Use the requests library to download webpage"
   ]
  },
  {
   "cell_type": "code",
   "execution_count": 29,
   "id": "1678c1af",
   "metadata": {},
   "outputs": [
    {
     "name": "stdout",
     "output_type": "stream",
     "text": [
      "Requirement already satisfied: requests in c:\\users\\kiit\\anaconda3\\lib\\site-packages (2.31.0)\n",
      "Requirement already satisfied: urllib3<3,>=1.21.1 in c:\\users\\kiit\\anaconda3\\lib\\site-packages (from requests) (1.26.14)\n",
      "Requirement already satisfied: certifi>=2017.4.17 in c:\\users\\kiit\\anaconda3\\lib\\site-packages (from requests) (2022.12.7)\n",
      "Requirement already satisfied: idna<4,>=2.5 in c:\\users\\kiit\\anaconda3\\lib\\site-packages (from requests) (3.4)\n",
      "Requirement already satisfied: charset-normalizer<4,>=2 in c:\\users\\kiit\\anaconda3\\lib\\site-packages (from requests) (2.0.4)\n",
      "Note: you may need to restart the kernel to use updated packages.\n"
     ]
    }
   ],
   "source": [
    "pip install requests"
   ]
  },
  {
   "cell_type": "code",
   "execution_count": 1,
   "id": "632807ad",
   "metadata": {},
   "outputs": [],
   "source": [
    "import requests"
   ]
  },
  {
   "cell_type": "code",
   "execution_count": 2,
   "id": "e0f3d900",
   "metadata": {},
   "outputs": [],
   "source": [
    "topic_url = 'https://github.com/topics'"
   ]
  },
  {
   "cell_type": "code",
   "execution_count": 3,
   "id": "9becd9fe",
   "metadata": {},
   "outputs": [
    {
     "data": {
      "text/plain": [
       "200"
      ]
     },
     "execution_count": 3,
     "metadata": {},
     "output_type": "execute_result"
    }
   ],
   "source": [
    "response = requests.get(topic_url)\n",
    "response.status_code\n",
    "# status code 200 indicates the request was succesful\n",
    "# "
   ]
  },
  {
   "cell_type": "code",
   "execution_count": 4,
   "id": "7fa6585b",
   "metadata": {},
   "outputs": [],
   "source": [
    "# content of the webpage\n",
    "page_content = response.text"
   ]
  },
  {
   "cell_type": "code",
   "execution_count": 35,
   "id": "de5c64e9",
   "metadata": {},
   "outputs": [
    {
     "data": {
      "text/plain": [
       "'\\n\\n<!DOCTYPE html>\\n<html\\n  lang=\"en\"\\n  \\n  data-color-mode=\"auto\" data-light-theme=\"light\" data-dark-theme=\"dark\"\\n  data-a11y-animated-images=\"system\" data-a11y-link-underlines=\"true\"\\n  >\\n\\n\\n\\n  <head>\\n    <meta charset=\"utf-8\">\\n  <link rel=\"dns-prefetch\" href=\"https://github.githubassets.com\">\\n  <link rel=\"dns-prefetch\" href=\"https://avatars.githubusercontent.com\">\\n  <link rel=\"dns-prefetch\" href=\"https://github-cloud.s3.amazonaws.com\">\\n  <link rel=\"dns-prefetch\" href=\"https://user-images.githubuse'"
      ]
     },
     "execution_count": 35,
     "metadata": {},
     "output_type": "execute_result"
    }
   ],
   "source": []
  },
  {
   "cell_type": "markdown",
   "id": "d6161d3f",
   "metadata": {},
   "source": [
    "## Beautiful Soup\n",
    "- We use BeautifulSoup for extracting the data from websites\n",
    "- convert to a pandas dataframe"
   ]
  },
  {
   "cell_type": "code",
   "execution_count": 36,
   "id": "9fe492a9",
   "metadata": {},
   "outputs": [
    {
     "name": "stdout",
     "output_type": "stream",
     "text": [
      "Requirement already satisfied: beautifulsoup4 in c:\\users\\kiit\\anaconda3\\lib\\site-packages (4.11.1)\n",
      "Requirement already satisfied: soupsieve>1.2 in c:\\users\\kiit\\anaconda3\\lib\\site-packages (from beautifulsoup4) (2.3.2.post1)\n"
     ]
    }
   ],
   "source": [
    "!pip install beautifulsoup4"
   ]
  },
  {
   "cell_type": "code",
   "execution_count": 5,
   "id": "8b355309",
   "metadata": {},
   "outputs": [],
   "source": [
    "from bs4 import BeautifulSoup"
   ]
  },
  {
   "cell_type": "code",
   "execution_count": 6,
   "id": "9106fb6b",
   "metadata": {},
   "outputs": [],
   "source": [
    "doc = BeautifulSoup(page_content,'html.parser')"
   ]
  },
  {
   "cell_type": "code",
   "execution_count": 7,
   "id": "317b32f1",
   "metadata": {},
   "outputs": [],
   "source": [
    "#doc"
   ]
  },
  {
   "cell_type": "code",
   "execution_count": 8,
   "id": "7e9afc19",
   "metadata": {},
   "outputs": [
    {
     "data": {
      "text/plain": [
       "bs4.BeautifulSoup"
      ]
     },
     "execution_count": 8,
     "metadata": {},
     "output_type": "execute_result"
    }
   ],
   "source": [
    "type(doc)"
   ]
  },
  {
   "cell_type": "code",
   "execution_count": null,
   "id": "f5f90227",
   "metadata": {},
   "outputs": [],
   "source": []
  },
  {
   "cell_type": "code",
   "execution_count": 9,
   "id": "c6fe4914",
   "metadata": {},
   "outputs": [],
   "source": [
    "# try and grab 3D of the html page\n",
    "# grabbing the p tag with the class = f3 lh-condensed mb-0 mt-1 Link--primary\n",
    "p_tags = doc.find_all('p',{'class':'f3 lh-condensed mb-0 mt-1 Link--primary'})"
   ]
  },
  {
   "cell_type": "code",
   "execution_count": 10,
   "id": "1d3b8359",
   "metadata": {},
   "outputs": [
    {
     "data": {
      "text/plain": [
       "30"
      ]
     },
     "execution_count": 10,
     "metadata": {},
     "output_type": "execute_result"
    }
   ],
   "source": [
    "len(p_tags)"
   ]
  },
  {
   "cell_type": "code",
   "execution_count": 11,
   "id": "52474021",
   "metadata": {},
   "outputs": [
    {
     "data": {
      "text/plain": [
       "[<p class=\"f3 lh-condensed mb-0 mt-1 Link--primary\">3D</p>,\n",
       " <p class=\"f3 lh-condensed mb-0 mt-1 Link--primary\">Ajax</p>,\n",
       " <p class=\"f3 lh-condensed mb-0 mt-1 Link--primary\">Algorithm</p>,\n",
       " <p class=\"f3 lh-condensed mb-0 mt-1 Link--primary\">Amp</p>,\n",
       " <p class=\"f3 lh-condensed mb-0 mt-1 Link--primary\">Android</p>,\n",
       " <p class=\"f3 lh-condensed mb-0 mt-1 Link--primary\">Angular</p>,\n",
       " <p class=\"f3 lh-condensed mb-0 mt-1 Link--primary\">Ansible</p>,\n",
       " <p class=\"f3 lh-condensed mb-0 mt-1 Link--primary\">API</p>,\n",
       " <p class=\"f3 lh-condensed mb-0 mt-1 Link--primary\">Arduino</p>,\n",
       " <p class=\"f3 lh-condensed mb-0 mt-1 Link--primary\">ASP.NET</p>,\n",
       " <p class=\"f3 lh-condensed mb-0 mt-1 Link--primary\">Awesome Lists</p>,\n",
       " <p class=\"f3 lh-condensed mb-0 mt-1 Link--primary\">Amazon Web Services</p>,\n",
       " <p class=\"f3 lh-condensed mb-0 mt-1 Link--primary\">Azure</p>,\n",
       " <p class=\"f3 lh-condensed mb-0 mt-1 Link--primary\">Babel</p>,\n",
       " <p class=\"f3 lh-condensed mb-0 mt-1 Link--primary\">Bash</p>,\n",
       " <p class=\"f3 lh-condensed mb-0 mt-1 Link--primary\">Bitcoin</p>,\n",
       " <p class=\"f3 lh-condensed mb-0 mt-1 Link--primary\">Bootstrap</p>,\n",
       " <p class=\"f3 lh-condensed mb-0 mt-1 Link--primary\">Bot</p>,\n",
       " <p class=\"f3 lh-condensed mb-0 mt-1 Link--primary\">C</p>,\n",
       " <p class=\"f3 lh-condensed mb-0 mt-1 Link--primary\">Chrome</p>,\n",
       " <p class=\"f3 lh-condensed mb-0 mt-1 Link--primary\">Chrome extension</p>,\n",
       " <p class=\"f3 lh-condensed mb-0 mt-1 Link--primary\">Command-line interface</p>,\n",
       " <p class=\"f3 lh-condensed mb-0 mt-1 Link--primary\">Clojure</p>,\n",
       " <p class=\"f3 lh-condensed mb-0 mt-1 Link--primary\">Code quality</p>,\n",
       " <p class=\"f3 lh-condensed mb-0 mt-1 Link--primary\">Code review</p>,\n",
       " <p class=\"f3 lh-condensed mb-0 mt-1 Link--primary\">Compiler</p>,\n",
       " <p class=\"f3 lh-condensed mb-0 mt-1 Link--primary\">Continuous integration</p>,\n",
       " <p class=\"f3 lh-condensed mb-0 mt-1 Link--primary\">C++</p>,\n",
       " <p class=\"f3 lh-condensed mb-0 mt-1 Link--primary\">Cryptocurrency</p>,\n",
       " <p class=\"f3 lh-condensed mb-0 mt-1 Link--primary\">Crystal</p>]"
      ]
     },
     "execution_count": 11,
     "metadata": {},
     "output_type": "execute_result"
    }
   ],
   "source": [
    "p_tags\n",
    "# all the p tages with the github titles such as '3D','Ajax'"
   ]
  },
  {
   "cell_type": "code",
   "execution_count": 12,
   "id": "57a6d7bb",
   "metadata": {},
   "outputs": [],
   "source": [
    "\n",
    "topic_title_tags = doc.find_all('p',{'class':'f3 lh-condensed mb-0 mt-1 Link--primary'})"
   ]
  },
  {
   "cell_type": "code",
   "execution_count": 13,
   "id": "6465dfc2",
   "metadata": {},
   "outputs": [
    {
     "data": {
      "text/plain": [
       "[<p class=\"f3 lh-condensed mb-0 mt-1 Link--primary\">3D</p>,\n",
       " <p class=\"f3 lh-condensed mb-0 mt-1 Link--primary\">Ajax</p>,\n",
       " <p class=\"f3 lh-condensed mb-0 mt-1 Link--primary\">Algorithm</p>,\n",
       " <p class=\"f3 lh-condensed mb-0 mt-1 Link--primary\">Amp</p>,\n",
       " <p class=\"f3 lh-condensed mb-0 mt-1 Link--primary\">Android</p>]"
      ]
     },
     "execution_count": 13,
     "metadata": {},
     "output_type": "execute_result"
    }
   ],
   "source": [
    "topic_title_tags[:5]\n",
    "# the first 5 p tags containing github title"
   ]
  },
  {
   "cell_type": "code",
   "execution_count": 14,
   "id": "19ccf8e8",
   "metadata": {},
   "outputs": [
    {
     "data": {
      "text/plain": [
       "[<p class=\"f5 color-fg-muted mb-0 mt-1\">\n",
       "           3D refers to the use of three-dimensional graphics, modeling, and animation in various industries.\n",
       "         </p>,\n",
       " <p class=\"f5 color-fg-muted mb-0 mt-1\">\n",
       "           Ajax is a technique for creating interactive web applications.\n",
       "         </p>,\n",
       " <p class=\"f5 color-fg-muted mb-0 mt-1\">\n",
       "           Algorithms are self-contained sequences that carry out a variety of tasks.\n",
       "         </p>,\n",
       " <p class=\"f5 color-fg-muted mb-0 mt-1\">\n",
       "           Amp is a non-blocking concurrency library for PHP.\n",
       "         </p>,\n",
       " <p class=\"f5 color-fg-muted mb-0 mt-1\">\n",
       "           Android is an operating system built by Google designed for mobile devices.\n",
       "         </p>]"
      ]
     },
     "execution_count": 14,
     "metadata": {},
     "output_type": "execute_result"
    }
   ],
   "source": [
    "# topic description tags\n",
    "desc_selector = 'f5 color-fg-muted mb-0 mt-1'\n",
    "topic_description_tags = doc.find_all('p',{'class': desc_selector})\n",
    "topic_description_tags[:5]\n"
   ]
  },
  {
   "cell_type": "code",
   "execution_count": 15,
   "id": "749b639c",
   "metadata": {},
   "outputs": [],
   "source": [
    "\n",
    "topic_title_tag0 = topic_title_tags[0]"
   ]
  },
  {
   "cell_type": "code",
   "execution_count": 16,
   "id": "77c0e0c5",
   "metadata": {},
   "outputs": [
    {
     "data": {
      "text/plain": [
       "<p class=\"f3 lh-condensed mb-0 mt-1 Link--primary\">3D</p>"
      ]
     },
     "execution_count": 16,
     "metadata": {},
     "output_type": "execute_result"
    }
   ],
   "source": [
    "topic_title_tag0\n",
    "# the first p tag"
   ]
  },
  {
   "cell_type": "code",
   "execution_count": 17,
   "id": "b7a3ba54",
   "metadata": {
    "scrolled": true
   },
   "outputs": [
    {
     "data": {
      "text/plain": [
       "<a class=\"no-underline flex-1 d-flex flex-column\" href=\"/topics/3d\">\n",
       "<p class=\"f3 lh-condensed mb-0 mt-1 Link--primary\">3D</p>\n",
       "<p class=\"f5 color-fg-muted mb-0 mt-1\">\n",
       "          3D refers to the use of three-dimensional graphics, modeling, and animation in various industries.\n",
       "        </p>\n",
       "</a>"
      ]
     },
     "execution_count": 17,
     "metadata": {},
     "output_type": "execute_result"
    }
   ],
   "source": [
    "topic_title_tag0.parent\n",
    "# it  gives us the parent of the above tag"
   ]
  },
  {
   "cell_type": "markdown",
   "id": "176716f0",
   "metadata": {},
   "source": [
    "### Now we find all the tag which contain the link to the github topics"
   ]
  },
  {
   "cell_type": "code",
   "execution_count": 18,
   "id": "c4bd62fb",
   "metadata": {},
   "outputs": [
    {
     "data": {
      "text/plain": [
       "30"
      ]
     },
     "execution_count": 18,
     "metadata": {},
     "output_type": "execute_result"
    }
   ],
   "source": [
    "topic_link_tag = doc.find_all('a',{'class':'no-underline flex-grow-0'})\n",
    "len(topic_link_tag)"
   ]
  },
  {
   "cell_type": "code",
   "execution_count": 19,
   "id": "0d51374d",
   "metadata": {},
   "outputs": [
    {
     "name": "stdout",
     "output_type": "stream",
     "text": [
      "https://github.com/topics/3d\n"
     ]
    }
   ],
   "source": [
    "ur1l = \"https://github.com\" + topic_link_tag[0]['href']\n",
    "print(ur1l)"
   ]
  },
  {
   "cell_type": "code",
   "execution_count": 20,
   "id": "cc7a18f1",
   "metadata": {
    "scrolled": true
   },
   "outputs": [
    {
     "data": {
      "text/plain": [
       "['3D',\n",
       " 'Ajax',\n",
       " 'Algorithm',\n",
       " 'Amp',\n",
       " 'Android',\n",
       " 'Angular',\n",
       " 'Ansible',\n",
       " 'API',\n",
       " 'Arduino',\n",
       " 'ASP.NET',\n",
       " 'Awesome Lists',\n",
       " 'Amazon Web Services',\n",
       " 'Azure',\n",
       " 'Babel',\n",
       " 'Bash',\n",
       " 'Bitcoin',\n",
       " 'Bootstrap',\n",
       " 'Bot',\n",
       " 'C',\n",
       " 'Chrome',\n",
       " 'Chrome extension',\n",
       " 'Command-line interface',\n",
       " 'Clojure',\n",
       " 'Code quality',\n",
       " 'Code review',\n",
       " 'Compiler',\n",
       " 'Continuous integration',\n",
       " 'C++',\n",
       " 'Cryptocurrency',\n",
       " 'Crystal']"
      ]
     },
     "execution_count": 20,
     "metadata": {},
     "output_type": "execute_result"
    }
   ],
   "source": [
    "# to get the text inside a tag\n",
    "topic_titles = []\n",
    "\n",
    "for tag in topic_title_tags:\n",
    "    topic_titles.append(tag.text)\n",
    "\n",
    "\n",
    "topic_titles"
   ]
  },
  {
   "cell_type": "code",
   "execution_count": 21,
   "id": "4e918a04",
   "metadata": {},
   "outputs": [
    {
     "data": {
      "text/plain": [
       "['3D refers to the use of three-dimensional graphics, modeling, and animation in various industries.',\n",
       " 'Ajax is a technique for creating interactive web applications.',\n",
       " 'Algorithms are self-contained sequences that carry out a variety of tasks.',\n",
       " 'Amp is a non-blocking concurrency library for PHP.',\n",
       " 'Android is an operating system built by Google designed for mobile devices.']"
      ]
     },
     "execution_count": 21,
     "metadata": {},
     "output_type": "execute_result"
    }
   ],
   "source": [
    "#topic description extracting\n",
    "#what each tag contains its description\n",
    "topic_desc = []\n",
    "\n",
    "for tag in topic_description_tags:\n",
    "    topic_desc.append(tag.text.strip())\n",
    "    \n",
    "topic_desc[:5]"
   ]
  },
  {
   "cell_type": "code",
   "execution_count": 23,
   "id": "062263ea",
   "metadata": {},
   "outputs": [
    {
     "data": {
      "text/plain": [
       "['https://github.com/topics/3d',\n",
       " 'https://github.com/topics/ajax',\n",
       " 'https://github.com/topics/algorithm',\n",
       " 'https://github.com/topics/amphp',\n",
       " 'https://github.com/topics/android',\n",
       " 'https://github.com/topics/angular',\n",
       " 'https://github.com/topics/ansible',\n",
       " 'https://github.com/topics/api',\n",
       " 'https://github.com/topics/arduino',\n",
       " 'https://github.com/topics/aspnet',\n",
       " 'https://github.com/topics/awesome',\n",
       " 'https://github.com/topics/aws',\n",
       " 'https://github.com/topics/azure',\n",
       " 'https://github.com/topics/babel',\n",
       " 'https://github.com/topics/bash',\n",
       " 'https://github.com/topics/bitcoin',\n",
       " 'https://github.com/topics/bootstrap',\n",
       " 'https://github.com/topics/bot',\n",
       " 'https://github.com/topics/c',\n",
       " 'https://github.com/topics/chrome',\n",
       " 'https://github.com/topics/chrome-extension',\n",
       " 'https://github.com/topics/cli',\n",
       " 'https://github.com/topics/clojure',\n",
       " 'https://github.com/topics/code-quality',\n",
       " 'https://github.com/topics/code-review',\n",
       " 'https://github.com/topics/compiler',\n",
       " 'https://github.com/topics/continuous-integration',\n",
       " 'https://github.com/topics/cpp',\n",
       " 'https://github.com/topics/cryptocurrency',\n",
       " 'https://github.com/topics/crystal']"
      ]
     },
     "execution_count": 23,
     "metadata": {},
     "output_type": "execute_result"
    }
   ],
   "source": [
    "#extracting the topic urls\n",
    "topic_urls = []\n",
    "base_urls = 'https://github.com'\n",
    "\n",
    "for tag in topic_link_tag:\n",
    "    topic_urls.append(base_urls + tag['href'])\n",
    "    \n",
    "topic_urls"
   ]
  },
  {
   "cell_type": "code",
   "execution_count": 24,
   "id": "0cb260a6",
   "metadata": {},
   "outputs": [],
   "source": [
    "# create csv file form this\n",
    "# using pandas dataframe\n",
    "\n",
    "import pandas as pd"
   ]
  },
  {
   "cell_type": "code",
   "execution_count": 25,
   "id": "7a1165dc",
   "metadata": {},
   "outputs": [
    {
     "data": {
      "text/html": [
       "<div>\n",
       "<style scoped>\n",
       "    .dataframe tbody tr th:only-of-type {\n",
       "        vertical-align: middle;\n",
       "    }\n",
       "\n",
       "    .dataframe tbody tr th {\n",
       "        vertical-align: top;\n",
       "    }\n",
       "\n",
       "    .dataframe thead th {\n",
       "        text-align: right;\n",
       "    }\n",
       "</style>\n",
       "<table border=\"1\" class=\"dataframe\">\n",
       "  <thead>\n",
       "    <tr style=\"text-align: right;\">\n",
       "      <th></th>\n",
       "      <th>titles</th>\n",
       "      <th>desc</th>\n",
       "      <th>topic_urls</th>\n",
       "    </tr>\n",
       "  </thead>\n",
       "  <tbody>\n",
       "    <tr>\n",
       "      <th>0</th>\n",
       "      <td>3D</td>\n",
       "      <td>3D refers to the use of three-dimensional grap...</td>\n",
       "      <td>https://github.com/topics/3d</td>\n",
       "    </tr>\n",
       "    <tr>\n",
       "      <th>1</th>\n",
       "      <td>Ajax</td>\n",
       "      <td>Ajax is a technique for creating interactive w...</td>\n",
       "      <td>https://github.com/topics/ajax</td>\n",
       "    </tr>\n",
       "    <tr>\n",
       "      <th>2</th>\n",
       "      <td>Algorithm</td>\n",
       "      <td>Algorithms are self-contained sequences that c...</td>\n",
       "      <td>https://github.com/topics/algorithm</td>\n",
       "    </tr>\n",
       "    <tr>\n",
       "      <th>3</th>\n",
       "      <td>Amp</td>\n",
       "      <td>Amp is a non-blocking concurrency library for ...</td>\n",
       "      <td>https://github.com/topics/amphp</td>\n",
       "    </tr>\n",
       "    <tr>\n",
       "      <th>4</th>\n",
       "      <td>Android</td>\n",
       "      <td>Android is an operating system built by Google...</td>\n",
       "      <td>https://github.com/topics/android</td>\n",
       "    </tr>\n",
       "  </tbody>\n",
       "</table>\n",
       "</div>"
      ],
      "text/plain": [
       "      titles                                               desc  \\\n",
       "0         3D  3D refers to the use of three-dimensional grap...   \n",
       "1       Ajax  Ajax is a technique for creating interactive w...   \n",
       "2  Algorithm  Algorithms are self-contained sequences that c...   \n",
       "3        Amp  Amp is a non-blocking concurrency library for ...   \n",
       "4    Android  Android is an operating system built by Google...   \n",
       "\n",
       "                            topic_urls  \n",
       "0         https://github.com/topics/3d  \n",
       "1       https://github.com/topics/ajax  \n",
       "2  https://github.com/topics/algorithm  \n",
       "3      https://github.com/topics/amphp  \n",
       "4    https://github.com/topics/android  "
      ]
     },
     "execution_count": 25,
     "metadata": {},
     "output_type": "execute_result"
    }
   ],
   "source": [
    "#now we create a dataframe with the topic titles, topic desc, topic_urls\n",
    "topics_df = pd.DataFrame({'titles':topic_titles,'desc':topic_desc,'topic_urls':topic_urls})\n",
    "topics_df.head()"
   ]
  },
  {
   "cell_type": "markdown",
   "id": "b9e774c9",
   "metadata": {},
   "source": [
    "## Create csv file with the extracted information"
   ]
  },
  {
   "cell_type": "code",
   "execution_count": 84,
   "id": "18cfdfe5",
   "metadata": {},
   "outputs": [],
   "source": [
    "topics_df.to_csv('scrapped.csv')\n",
    "#if you run the above code, a new csv file will be created\n",
    "#if you don't want index, then use index = None"
   ]
  },
  {
   "cell_type": "markdown",
   "id": "951f0bba",
   "metadata": {},
   "source": [
    "## Getting information out of a topic page\n",
    "\n",
    "- now we want to get the information for each topic page, such as the username and their repositories and how many stars present. "
   ]
  },
  {
   "cell_type": "code",
   "execution_count": 26,
   "id": "85cc5ef9",
   "metadata": {},
   "outputs": [
    {
     "data": {
      "text/plain": [
       "'https://github.com/topics/3d'"
      ]
     },
     "execution_count": 26,
     "metadata": {},
     "output_type": "execute_result"
    }
   ],
   "source": [
    "#now we want to get the information for each topic page,\n",
    "#we \n",
    "topic_page_urls = topic_urls[0]\n",
    "topic_page_urls"
   ]
  },
  {
   "cell_type": "code",
   "execution_count": 27,
   "id": "847b8f25",
   "metadata": {},
   "outputs": [
    {
     "data": {
      "text/plain": [
       "200"
      ]
     },
     "execution_count": 27,
     "metadata": {},
     "output_type": "execute_result"
    }
   ],
   "source": [
    "response = requests.get(topic_page_urls)\n",
    "response.status_code"
   ]
  },
  {
   "cell_type": "code",
   "execution_count": 28,
   "id": "47c03e2c",
   "metadata": {},
   "outputs": [
    {
     "data": {
      "text/plain": [
       "521452"
      ]
     },
     "execution_count": 28,
     "metadata": {},
     "output_type": "execute_result"
    }
   ],
   "source": [
    "len(response.text)"
   ]
  },
  {
   "cell_type": "code",
   "execution_count": 29,
   "id": "3d3c357f",
   "metadata": {},
   "outputs": [],
   "source": [
    "topic_doc = BeautifulSoup(response.text,'html.parser')\n",
    "#topic_doc"
   ]
  },
  {
   "cell_type": "code",
   "execution_count": null,
   "id": "bf3a24a1",
   "metadata": {},
   "outputs": [],
   "source": []
  },
  {
   "cell_type": "code",
   "execution_count": 30,
   "id": "29076d95",
   "metadata": {},
   "outputs": [],
   "source": [
    "#in this we have selected an 'h3' tag but we have written 'h1_selection_class' don't be mistaken\n",
    "h1_selection_class = \"f3 color-fg-muted text-normal lh-condensed\"\n",
    "repo_tags = topic_doc.find_all('h3',{'class':h1_selection_class})\n",
    "#len(repo_tags)"
   ]
  },
  {
   "cell_type": "code",
   "execution_count": 31,
   "id": "90931017",
   "metadata": {
    "scrolled": true
   },
   "outputs": [
    {
     "data": {
      "text/plain": [
       "20"
      ]
     },
     "execution_count": 31,
     "metadata": {},
     "output_type": "execute_result"
    }
   ],
   "source": [
    "len(repo_tags)"
   ]
  },
  {
   "cell_type": "code",
   "execution_count": 32,
   "id": "36f61d9c",
   "metadata": {},
   "outputs": [],
   "source": [
    "#repo_tags"
   ]
  },
  {
   "cell_type": "code",
   "execution_count": 33,
   "id": "f34e9ab5",
   "metadata": {},
   "outputs": [
    {
     "data": {
      "text/plain": [
       "'mrdoob'"
      ]
     },
     "execution_count": 33,
     "metadata": {},
     "output_type": "execute_result"
    }
   ],
   "source": [
    "a_tags = repo_tags[0].find_all('a')\n",
    "a_tags[0].text.strip()"
   ]
  },
  {
   "cell_type": "code",
   "execution_count": 34,
   "id": "716ea9dc",
   "metadata": {},
   "outputs": [
    {
     "data": {
      "text/plain": [
       "'three.js'"
      ]
     },
     "execution_count": 34,
     "metadata": {},
     "output_type": "execute_result"
    }
   ],
   "source": [
    "a_tags[1].text.strip()"
   ]
  },
  {
   "cell_type": "code",
   "execution_count": 35,
   "id": "c17685ac",
   "metadata": {},
   "outputs": [
    {
     "data": {
      "text/plain": [
       "'https://github.com/mrdoob'"
      ]
     },
     "execution_count": 35,
     "metadata": {},
     "output_type": "execute_result"
    }
   ],
   "source": [
    "# user urls\n",
    "base_urls + a_tags[0]['href']"
   ]
  },
  {
   "cell_type": "code",
   "execution_count": 36,
   "id": "1a8899e5",
   "metadata": {},
   "outputs": [
    {
     "data": {
      "text/plain": [
       "'7.5'"
      ]
     },
     "execution_count": 36,
     "metadata": {},
     "output_type": "execute_result"
    }
   ],
   "source": [
    "# no. of stars for each username repo in 3D topic\n",
    "star_tags = topic_doc.find_all('span',{'class':\"Counter js-social-count\"})\n",
    "\n",
    "star_tags[-1].text[:-1]"
   ]
  },
  {
   "cell_type": "code",
   "execution_count": 37,
   "id": "4eefe547",
   "metadata": {},
   "outputs": [
    {
     "data": {
      "text/plain": [
       "'101k'"
      ]
     },
     "execution_count": 37,
     "metadata": {},
     "output_type": "execute_result"
    }
   ],
   "source": [
    "star_tags[0].text.strip()"
   ]
  },
  {
   "cell_type": "code",
   "execution_count": null,
   "id": "898922a8",
   "metadata": {},
   "outputs": [],
   "source": []
  },
  {
   "cell_type": "code",
   "execution_count": 38,
   "id": "4917daa0",
   "metadata": {},
   "outputs": [],
   "source": [
    "# function to convert string count of stars to float\n",
    "# if stars count is 7.5k -> 7500 and is it is 670 -> 670\n",
    "\n",
    "#now the count of stars are in string, we want to convert it into float\n",
    "def parse_str(stars):\n",
    "    '''\n",
    "    function to convert string count of stars to float\n",
    "    if stars count is 7.5k -> 7500 and if it is 670 -> 670\n",
    "    \n",
    "    '''\n",
    "    if (stars.text[-1])=='k':\n",
    "        return (float(stars.text[:-1]))*1000\n",
    "    else:\n",
    "        return (float(stars.text[:-1]))"
   ]
  },
  {
   "cell_type": "code",
   "execution_count": 39,
   "id": "5993dac0",
   "metadata": {},
   "outputs": [
    {
     "data": {
      "text/plain": [
       "7500.0"
      ]
     },
     "execution_count": 39,
     "metadata": {},
     "output_type": "execute_result"
    }
   ],
   "source": [
    "parse_str(star_tags[-1])"
   ]
  },
  {
   "cell_type": "code",
   "execution_count": 40,
   "id": "6baded1a",
   "metadata": {},
   "outputs": [],
   "source": [
    "def get_repo_info(h3_tag,star_tags):\n",
    "    '''\n",
    "    returns all the required info about the repository\n",
    "    '''\n",
    "    a_tags = h3_tag.find_all('a')\n",
    "    username = a_tags[0].text.strip()\n",
    "    repo_name = a_tags[1].text.strip()\n",
    "    repo_url = base_urls + a_tags[1]['href']\n",
    "    stars = parse_str(star_tags)\n",
    "    return username,repo_name,repo_url,stars"
   ]
  },
  {
   "cell_type": "code",
   "execution_count": 41,
   "id": "95075881",
   "metadata": {},
   "outputs": [
    {
     "data": {
      "text/plain": [
       "'mrdoob'"
      ]
     },
     "execution_count": 41,
     "metadata": {},
     "output_type": "execute_result"
    }
   ],
   "source": [
    "(get_repo_info(repo_tags[0],star_tags[0]))[0]"
   ]
  },
  {
   "cell_type": "code",
   "execution_count": 42,
   "id": "281e981c",
   "metadata": {},
   "outputs": [],
   "source": [
    "repo_dict = {\n",
    "    'username':[],\n",
    "    'reponame':[],\n",
    "    'repo_url':[],\n",
    "    'stars':[]\n",
    "} \n",
    "\n",
    "for i in range(len(repo_tags)):\n",
    "    repo_info = get_repo_info(repo_tags[i],star_tags[i])\n",
    "    repo_dict['username'].append(repo_info[0])\n",
    "    repo_dict['reponame'].append(repo_info[1])\n",
    "    repo_dict['repo_url'].append(repo_info[2])\n",
    "    repo_dict['stars'].append(repo_info[3])\n",
    "                            \n"
   ]
  },
  {
   "cell_type": "code",
   "execution_count": 190,
   "id": "a7a629e9",
   "metadata": {},
   "outputs": [],
   "source": [
    "#repo_dict"
   ]
  },
  {
   "cell_type": "code",
   "execution_count": 43,
   "id": "e617eaf7",
   "metadata": {},
   "outputs": [],
   "source": [
    "topic_repo_df = pd.DataFrame(repo_dict)"
   ]
  },
  {
   "cell_type": "code",
   "execution_count": 44,
   "id": "f7f4a3df",
   "metadata": {},
   "outputs": [],
   "source": [
    "#topic_repo_df\n",
    "import os\n",
    "def get_topic_page(topic_url):\n",
    "    #Download the page\n",
    "    response = requests.get(topic_url)\n",
    "    #Check succesful response\n",
    "    if response.status_code!=200:\n",
    "        raise Exception('Failed to load page{}'.format(topic_url))\n",
    "    #parse using BeautifulSoup\n",
    "    topic_doc = BeautifulSoup(response.text,'html.parser')\n",
    "    return topic_doc\n",
    "\n",
    "def get_repo_info(h3_tag,star_tags):\n",
    "    '''\n",
    "    returns all the required info about the repository\n",
    "    '''\n",
    "    a_tags = h3_tag.find_all('a')\n",
    "    username = a_tags[0].text.strip()\n",
    "    repo_name = a_tags[1].text.strip()\n",
    "    repo_url = base_urls + a_tags[1]['href']\n",
    "    stars = parse_str(star_tags)\n",
    "    return username,repo_name,repo_url,stars\n",
    "    \n",
    "#Now we just don't want to do for one topic but for many topic\n",
    "def get_topic_repos(topic_doc):\n",
    "    h3_selection_class = \"f3 color-fg-muted text-normal lh-condensed\"\n",
    "    repo_tags = topic_doc.find_all('h3',{'class':h3_selection_class})\n",
    "    \n",
    "    star_tags = topic_doc.find_all('span',{'class':\"Counter js-social-count\"})\n",
    "    repo_dict = {\n",
    "    'username':[],\n",
    "    'reponame':[],\n",
    "    'repo_url':[],\n",
    "    'stars':[]\n",
    "    } \n",
    "\n",
    "    for i in range(len(repo_tags)):\n",
    "        repo_info = get_repo_info(repo_tags[i],star_tags[i])\n",
    "        repo_dict['username'].append(repo_info[0])\n",
    "        repo_dict['reponame'].append(repo_info[1])\n",
    "        repo_dict['repo_url'].append(repo_info[2])\n",
    "        repo_dict['stars'].append(repo_info[3])\n",
    "        \n",
    "    return pd.DataFrame(repo_dict)\n",
    "\n",
    "\n",
    "    \n",
    "def scrape_topic(topic_url,path):\n",
    "    #fname = topic_name + '.csv'\n",
    "    if os.path.exists(path):\n",
    "        print('File {} Alrady exists '.format(fname))\n",
    "        return \n",
    "    topic_df = get_topic_repos(get_topic_page(topic_url))\n",
    "    topic_df.to_csv(path,index=None)\n",
    "    \n",
    "    "
   ]
  },
  {
   "cell_type": "code",
   "execution_count": 45,
   "id": "6e24a8e5",
   "metadata": {},
   "outputs": [],
   "source": [
    "topic_doc = get_topic_page(topic_urls[5])"
   ]
  },
  {
   "cell_type": "code",
   "execution_count": 46,
   "id": "c9cb152f",
   "metadata": {},
   "outputs": [
    {
     "data": {
      "text/plain": [
       "'https://github.com/topics/arduino'"
      ]
     },
     "execution_count": 46,
     "metadata": {},
     "output_type": "execute_result"
    }
   ],
   "source": [
    "topic_urls[8]"
   ]
  },
  {
   "cell_type": "code",
   "execution_count": 47,
   "id": "1efb3a49",
   "metadata": {},
   "outputs": [
    {
     "data": {
      "text/html": [
       "<div>\n",
       "<style scoped>\n",
       "    .dataframe tbody tr th:only-of-type {\n",
       "        vertical-align: middle;\n",
       "    }\n",
       "\n",
       "    .dataframe tbody tr th {\n",
       "        vertical-align: top;\n",
       "    }\n",
       "\n",
       "    .dataframe thead th {\n",
       "        text-align: right;\n",
       "    }\n",
       "</style>\n",
       "<table border=\"1\" class=\"dataframe\">\n",
       "  <thead>\n",
       "    <tr style=\"text-align: right;\">\n",
       "      <th></th>\n",
       "      <th>username</th>\n",
       "      <th>reponame</th>\n",
       "      <th>repo_url</th>\n",
       "      <th>stars</th>\n",
       "    </tr>\n",
       "  </thead>\n",
       "  <tbody>\n",
       "    <tr>\n",
       "      <th>0</th>\n",
       "      <td>arendst</td>\n",
       "      <td>Tasmota</td>\n",
       "      <td>https://github.com/arendst/Tasmota</td>\n",
       "      <td>21800.0</td>\n",
       "    </tr>\n",
       "    <tr>\n",
       "      <th>1</th>\n",
       "      <td>MarlinFirmware</td>\n",
       "      <td>Marlin</td>\n",
       "      <td>https://github.com/MarlinFirmware/Marlin</td>\n",
       "      <td>16100.0</td>\n",
       "    </tr>\n",
       "    <tr>\n",
       "      <th>2</th>\n",
       "      <td>tinygo-org</td>\n",
       "      <td>tinygo</td>\n",
       "      <td>https://github.com/tinygo-org/tinygo</td>\n",
       "      <td>14800.0</td>\n",
       "    </tr>\n",
       "    <tr>\n",
       "      <th>3</th>\n",
       "      <td>arduino</td>\n",
       "      <td>Arduino</td>\n",
       "      <td>https://github.com/arduino/Arduino</td>\n",
       "      <td>14100.0</td>\n",
       "    </tr>\n",
       "    <tr>\n",
       "      <th>4</th>\n",
       "      <td>rwaldron</td>\n",
       "      <td>johnny-five</td>\n",
       "      <td>https://github.com/rwaldron/johnny-five</td>\n",
       "      <td>13300.0</td>\n",
       "    </tr>\n",
       "    <tr>\n",
       "      <th>5</th>\n",
       "      <td>SpacehuhnTech</td>\n",
       "      <td>esp8266_deauther</td>\n",
       "      <td>https://github.com/SpacehuhnTech/esp8266_deauther</td>\n",
       "      <td>13200.0</td>\n",
       "    </tr>\n",
       "    <tr>\n",
       "      <th>6</th>\n",
       "      <td>espressif</td>\n",
       "      <td>arduino-esp32</td>\n",
       "      <td>https://github.com/espressif/arduino-esp32</td>\n",
       "      <td>13100.0</td>\n",
       "    </tr>\n",
       "    <tr>\n",
       "      <th>7</th>\n",
       "      <td>gurugio</td>\n",
       "      <td>lowlevelprogramming-university</td>\n",
       "      <td>https://github.com/gurugio/lowlevelprogramming...</td>\n",
       "      <td>9900.0</td>\n",
       "    </tr>\n",
       "    <tr>\n",
       "      <th>8</th>\n",
       "      <td>hybridgroup</td>\n",
       "      <td>gobot</td>\n",
       "      <td>https://github.com/hybridgroup/gobot</td>\n",
       "      <td>8800.0</td>\n",
       "    </tr>\n",
       "    <tr>\n",
       "      <th>9</th>\n",
       "      <td>platformio</td>\n",
       "      <td>platformio-core</td>\n",
       "      <td>https://github.com/platformio/platformio-core</td>\n",
       "      <td>7700.0</td>\n",
       "    </tr>\n",
       "    <tr>\n",
       "      <th>10</th>\n",
       "      <td>bblanchon</td>\n",
       "      <td>ArduinoJson</td>\n",
       "      <td>https://github.com/bblanchon/ArduinoJson</td>\n",
       "      <td>6700.0</td>\n",
       "    </tr>\n",
       "    <tr>\n",
       "      <th>11</th>\n",
       "      <td>tzapu</td>\n",
       "      <td>WiFiManager</td>\n",
       "      <td>https://github.com/tzapu/WiFiManager</td>\n",
       "      <td>6500.0</td>\n",
       "    </tr>\n",
       "    <tr>\n",
       "      <th>12</th>\n",
       "      <td>justcallmekoko</td>\n",
       "      <td>ESP32Marauder</td>\n",
       "      <td>https://github.com/justcallmekoko/ESP32Marauder</td>\n",
       "      <td>5100.0</td>\n",
       "    </tr>\n",
       "    <tr>\n",
       "      <th>13</th>\n",
       "      <td>olikraus</td>\n",
       "      <td>u8g2</td>\n",
       "      <td>https://github.com/olikraus/u8g2</td>\n",
       "      <td>5000.0</td>\n",
       "    </tr>\n",
       "    <tr>\n",
       "      <th>14</th>\n",
       "      <td>omriharel</td>\n",
       "      <td>deej</td>\n",
       "      <td>https://github.com/omriharel/deej</td>\n",
       "      <td>4600.0</td>\n",
       "    </tr>\n",
       "    <tr>\n",
       "      <th>15</th>\n",
       "      <td>ClemensElflein</td>\n",
       "      <td>OpenMower</td>\n",
       "      <td>https://github.com/ClemensElflein/OpenMower</td>\n",
       "      <td>4600.0</td>\n",
       "    </tr>\n",
       "    <tr>\n",
       "      <th>16</th>\n",
       "      <td>Arduino-IRremote</td>\n",
       "      <td>Arduino-IRremote</td>\n",
       "      <td>https://github.com/Arduino-IRremote/Arduino-IR...</td>\n",
       "      <td>4400.0</td>\n",
       "    </tr>\n",
       "    <tr>\n",
       "      <th>17</th>\n",
       "      <td>Serial-Studio</td>\n",
       "      <td>Serial-Studio</td>\n",
       "      <td>https://github.com/Serial-Studio/Serial-Studio</td>\n",
       "      <td>4300.0</td>\n",
       "    </tr>\n",
       "    <tr>\n",
       "      <th>18</th>\n",
       "      <td>arduino</td>\n",
       "      <td>arduino-cli</td>\n",
       "      <td>https://github.com/arduino/arduino-cli</td>\n",
       "      <td>4300.0</td>\n",
       "    </tr>\n",
       "    <tr>\n",
       "      <th>19</th>\n",
       "      <td>hybridgroup</td>\n",
       "      <td>cylon</td>\n",
       "      <td>https://github.com/hybridgroup/cylon</td>\n",
       "      <td>4200.0</td>\n",
       "    </tr>\n",
       "  </tbody>\n",
       "</table>\n",
       "</div>"
      ],
      "text/plain": [
       "            username                        reponame  \\\n",
       "0            arendst                         Tasmota   \n",
       "1     MarlinFirmware                          Marlin   \n",
       "2         tinygo-org                          tinygo   \n",
       "3            arduino                         Arduino   \n",
       "4           rwaldron                     johnny-five   \n",
       "5      SpacehuhnTech                esp8266_deauther   \n",
       "6          espressif                   arduino-esp32   \n",
       "7            gurugio  lowlevelprogramming-university   \n",
       "8        hybridgroup                           gobot   \n",
       "9         platformio                 platformio-core   \n",
       "10         bblanchon                     ArduinoJson   \n",
       "11             tzapu                     WiFiManager   \n",
       "12    justcallmekoko                   ESP32Marauder   \n",
       "13          olikraus                            u8g2   \n",
       "14         omriharel                            deej   \n",
       "15    ClemensElflein                       OpenMower   \n",
       "16  Arduino-IRremote                Arduino-IRremote   \n",
       "17     Serial-Studio                   Serial-Studio   \n",
       "18           arduino                     arduino-cli   \n",
       "19       hybridgroup                           cylon   \n",
       "\n",
       "                                             repo_url    stars  \n",
       "0                  https://github.com/arendst/Tasmota  21800.0  \n",
       "1            https://github.com/MarlinFirmware/Marlin  16100.0  \n",
       "2                https://github.com/tinygo-org/tinygo  14800.0  \n",
       "3                  https://github.com/arduino/Arduino  14100.0  \n",
       "4             https://github.com/rwaldron/johnny-five  13300.0  \n",
       "5   https://github.com/SpacehuhnTech/esp8266_deauther  13200.0  \n",
       "6          https://github.com/espressif/arduino-esp32  13100.0  \n",
       "7   https://github.com/gurugio/lowlevelprogramming...   9900.0  \n",
       "8                https://github.com/hybridgroup/gobot   8800.0  \n",
       "9       https://github.com/platformio/platformio-core   7700.0  \n",
       "10           https://github.com/bblanchon/ArduinoJson   6700.0  \n",
       "11               https://github.com/tzapu/WiFiManager   6500.0  \n",
       "12    https://github.com/justcallmekoko/ESP32Marauder   5100.0  \n",
       "13                   https://github.com/olikraus/u8g2   5000.0  \n",
       "14                  https://github.com/omriharel/deej   4600.0  \n",
       "15        https://github.com/ClemensElflein/OpenMower   4600.0  \n",
       "16  https://github.com/Arduino-IRremote/Arduino-IR...   4400.0  \n",
       "17     https://github.com/Serial-Studio/Serial-Studio   4300.0  \n",
       "18             https://github.com/arduino/arduino-cli   4300.0  \n",
       "19               https://github.com/hybridgroup/cylon   4200.0  "
      ]
     },
     "execution_count": 47,
     "metadata": {},
     "output_type": "execute_result"
    }
   ],
   "source": [
    "get_topic_repos(get_topic_page('https://github.com/topics/arduino'))"
   ]
  },
  {
   "cell_type": "code",
   "execution_count": 234,
   "id": "cc7ffd0a",
   "metadata": {},
   "outputs": [],
   "source": [
    "get_topic_repos(get_topic_page(topic_urls[8])).to_csv('Arduino.csv')"
   ]
  },
  {
   "cell_type": "markdown",
   "id": "afe6d509",
   "metadata": {},
   "source": [
    "\n",
    "Write a single function to \n",
    "- get the list of topics from the topics page\n",
    "- get the list of top repos from the individual topic pages\n",
    "- for each topic,create a csv of the top repos for the topic"
   ]
  },
  {
   "cell_type": "code",
   "execution_count": 48,
   "id": "3c204f26",
   "metadata": {},
   "outputs": [],
   "source": [
    "doc = BeautifulSoup(response.text,'html.parser')"
   ]
  },
  {
   "cell_type": "code",
   "execution_count": 49,
   "id": "df7e8626",
   "metadata": {},
   "outputs": [],
   "source": [
    "def get_topic_titles(doc):\n",
    "    '''\n",
    "    it takes a beautiful soup doc and it returns the list of topic titles\n",
    "    '''\n",
    "    topic_title_tags = doc.find_all('p',{'class':'f3 lh-condensed mb-0 mt-1 Link--primary'})    \n",
    "    topic_titles = []\n",
    "    for tag in topic_title_tags:\n",
    "        topic_titles.append(tag.text)\n",
    "\n",
    "    return topic_titles\n",
    "\n",
    "def get_topic_desc(doc):\n",
    "    desc_selector = 'f5 color-fg-muted mb-0 mt-1'\n",
    "    topic_description_tags = doc.find_all('p',{'class': desc_selector})\n",
    "    topic_desc = []\n",
    "    for tag in topic_description_tags:\n",
    "        topic_desc.append(tag.text.strip())\n",
    "        \n",
    "    return topic_desc\n",
    "    \n",
    "def get_topic_urls(doc):\n",
    "    topic_link_tag = doc.find_all('a',{'class':'no-underline flex-grow-0'})\n",
    "    topic_urls = []\n",
    "    base_urls = 'https://github.com'\n",
    "\n",
    "    for tag in topic_link_tag:\n",
    "        topic_urls.append(base_urls + tag['href'])\n",
    "    \n",
    "    return topic_urls\n",
    "    \n",
    "\n",
    "def scrape_topics():\n",
    "    topics_url = 'https://github.com/topics'\n",
    "    response = requests.get(topics_url)\n",
    "    #Check succesful response\n",
    "    if response.status_code!=200:\n",
    "        raise Exception('Failed to load page{}'.format(topic_url))\n",
    "    #parse using BeautifulSoup\n",
    "    doc = BeautifulSoup(response.text,'html.parser')\n",
    "    #topic_title_tags = doc.find_all('p',{'class':'f3 lh-condensed mb-0 mt-1 Link--primary'})\n",
    "    # topic description tags\n",
    "    topics_dict = {\n",
    "        'title':get_topic_titles(doc),\n",
    "        'description':get_topic_desc(doc),\n",
    "        'url':get_topic_urls(doc)\n",
    "    }\n",
    "    \n",
    "    return pd.DataFrame(topics_dict)\n",
    "    \n",
    "\n",
    "def scrape_topics_repos():\n",
    "    topics_url = 'https://github.com/topics/3d'\n",
    "    pass\n",
    "    "
   ]
  },
  {
   "cell_type": "code",
   "execution_count": 50,
   "id": "652e00c2",
   "metadata": {},
   "outputs": [
    {
     "data": {
      "text/html": [
       "<div>\n",
       "<style scoped>\n",
       "    .dataframe tbody tr th:only-of-type {\n",
       "        vertical-align: middle;\n",
       "    }\n",
       "\n",
       "    .dataframe tbody tr th {\n",
       "        vertical-align: top;\n",
       "    }\n",
       "\n",
       "    .dataframe thead th {\n",
       "        text-align: right;\n",
       "    }\n",
       "</style>\n",
       "<table border=\"1\" class=\"dataframe\">\n",
       "  <thead>\n",
       "    <tr style=\"text-align: right;\">\n",
       "      <th></th>\n",
       "      <th>title</th>\n",
       "      <th>description</th>\n",
       "      <th>url</th>\n",
       "    </tr>\n",
       "  </thead>\n",
       "  <tbody>\n",
       "    <tr>\n",
       "      <th>0</th>\n",
       "      <td>3D</td>\n",
       "      <td>3D refers to the use of three-dimensional grap...</td>\n",
       "      <td>https://github.com/topics/3d</td>\n",
       "    </tr>\n",
       "    <tr>\n",
       "      <th>1</th>\n",
       "      <td>Ajax</td>\n",
       "      <td>Ajax is a technique for creating interactive w...</td>\n",
       "      <td>https://github.com/topics/ajax</td>\n",
       "    </tr>\n",
       "    <tr>\n",
       "      <th>2</th>\n",
       "      <td>Algorithm</td>\n",
       "      <td>Algorithms are self-contained sequences that c...</td>\n",
       "      <td>https://github.com/topics/algorithm</td>\n",
       "    </tr>\n",
       "    <tr>\n",
       "      <th>3</th>\n",
       "      <td>Amp</td>\n",
       "      <td>Amp is a non-blocking concurrency library for ...</td>\n",
       "      <td>https://github.com/topics/amphp</td>\n",
       "    </tr>\n",
       "    <tr>\n",
       "      <th>4</th>\n",
       "      <td>Android</td>\n",
       "      <td>Android is an operating system built by Google...</td>\n",
       "      <td>https://github.com/topics/android</td>\n",
       "    </tr>\n",
       "    <tr>\n",
       "      <th>5</th>\n",
       "      <td>Angular</td>\n",
       "      <td>Angular is an open source web application plat...</td>\n",
       "      <td>https://github.com/topics/angular</td>\n",
       "    </tr>\n",
       "    <tr>\n",
       "      <th>6</th>\n",
       "      <td>Ansible</td>\n",
       "      <td>Ansible is a simple and powerful automation en...</td>\n",
       "      <td>https://github.com/topics/ansible</td>\n",
       "    </tr>\n",
       "    <tr>\n",
       "      <th>7</th>\n",
       "      <td>API</td>\n",
       "      <td>An API (Application Programming Interface) is ...</td>\n",
       "      <td>https://github.com/topics/api</td>\n",
       "    </tr>\n",
       "    <tr>\n",
       "      <th>8</th>\n",
       "      <td>Arduino</td>\n",
       "      <td>Arduino is an open source platform for buildin...</td>\n",
       "      <td>https://github.com/topics/arduino</td>\n",
       "    </tr>\n",
       "    <tr>\n",
       "      <th>9</th>\n",
       "      <td>ASP.NET</td>\n",
       "      <td>ASP.NET is a web framework for building modern...</td>\n",
       "      <td>https://github.com/topics/aspnet</td>\n",
       "    </tr>\n",
       "    <tr>\n",
       "      <th>10</th>\n",
       "      <td>Awesome Lists</td>\n",
       "      <td>An awesome list is a list of awesome things cu...</td>\n",
       "      <td>https://github.com/topics/awesome</td>\n",
       "    </tr>\n",
       "    <tr>\n",
       "      <th>11</th>\n",
       "      <td>Amazon Web Services</td>\n",
       "      <td>Amazon Web Services provides on-demand cloud c...</td>\n",
       "      <td>https://github.com/topics/aws</td>\n",
       "    </tr>\n",
       "    <tr>\n",
       "      <th>12</th>\n",
       "      <td>Azure</td>\n",
       "      <td>Azure is a cloud computing service created by ...</td>\n",
       "      <td>https://github.com/topics/azure</td>\n",
       "    </tr>\n",
       "    <tr>\n",
       "      <th>13</th>\n",
       "      <td>Babel</td>\n",
       "      <td>Babel is a compiler for writing next generatio...</td>\n",
       "      <td>https://github.com/topics/babel</td>\n",
       "    </tr>\n",
       "    <tr>\n",
       "      <th>14</th>\n",
       "      <td>Bash</td>\n",
       "      <td>Bash is a shell and command language interpret...</td>\n",
       "      <td>https://github.com/topics/bash</td>\n",
       "    </tr>\n",
       "    <tr>\n",
       "      <th>15</th>\n",
       "      <td>Bitcoin</td>\n",
       "      <td>Bitcoin is a cryptocurrency developed by Satos...</td>\n",
       "      <td>https://github.com/topics/bitcoin</td>\n",
       "    </tr>\n",
       "    <tr>\n",
       "      <th>16</th>\n",
       "      <td>Bootstrap</td>\n",
       "      <td>Bootstrap is an HTML, CSS, and JavaScript fram...</td>\n",
       "      <td>https://github.com/topics/bootstrap</td>\n",
       "    </tr>\n",
       "    <tr>\n",
       "      <th>17</th>\n",
       "      <td>Bot</td>\n",
       "      <td>A bot is an application that runs automated ta...</td>\n",
       "      <td>https://github.com/topics/bot</td>\n",
       "    </tr>\n",
       "    <tr>\n",
       "      <th>18</th>\n",
       "      <td>C</td>\n",
       "      <td>C is a general purpose programming language th...</td>\n",
       "      <td>https://github.com/topics/c</td>\n",
       "    </tr>\n",
       "    <tr>\n",
       "      <th>19</th>\n",
       "      <td>Chrome</td>\n",
       "      <td>Chrome is a web browser from the tech company ...</td>\n",
       "      <td>https://github.com/topics/chrome</td>\n",
       "    </tr>\n",
       "    <tr>\n",
       "      <th>20</th>\n",
       "      <td>Chrome extension</td>\n",
       "      <td>Chrome extensions enable users to customize th...</td>\n",
       "      <td>https://github.com/topics/chrome-extension</td>\n",
       "    </tr>\n",
       "    <tr>\n",
       "      <th>21</th>\n",
       "      <td>Command-line interface</td>\n",
       "      <td>A CLI, or command-line interface, is a console...</td>\n",
       "      <td>https://github.com/topics/cli</td>\n",
       "    </tr>\n",
       "    <tr>\n",
       "      <th>22</th>\n",
       "      <td>Clojure</td>\n",
       "      <td>Clojure is a dynamic, general-purpose programm...</td>\n",
       "      <td>https://github.com/topics/clojure</td>\n",
       "    </tr>\n",
       "    <tr>\n",
       "      <th>23</th>\n",
       "      <td>Code quality</td>\n",
       "      <td>Automate your code review with style, quality,...</td>\n",
       "      <td>https://github.com/topics/code-quality</td>\n",
       "    </tr>\n",
       "    <tr>\n",
       "      <th>24</th>\n",
       "      <td>Code review</td>\n",
       "      <td>Ensure your code meets quality standards and s...</td>\n",
       "      <td>https://github.com/topics/code-review</td>\n",
       "    </tr>\n",
       "    <tr>\n",
       "      <th>25</th>\n",
       "      <td>Compiler</td>\n",
       "      <td>Compilers are software that translate higher-l...</td>\n",
       "      <td>https://github.com/topics/compiler</td>\n",
       "    </tr>\n",
       "    <tr>\n",
       "      <th>26</th>\n",
       "      <td>Continuous integration</td>\n",
       "      <td>Automatically build and test your code as you ...</td>\n",
       "      <td>https://github.com/topics/continuous-integration</td>\n",
       "    </tr>\n",
       "    <tr>\n",
       "      <th>27</th>\n",
       "      <td>C++</td>\n",
       "      <td>C++ is a general purpose and object-oriented p...</td>\n",
       "      <td>https://github.com/topics/cpp</td>\n",
       "    </tr>\n",
       "    <tr>\n",
       "      <th>28</th>\n",
       "      <td>Cryptocurrency</td>\n",
       "      <td>A cryptocurrency is a digital currency that us...</td>\n",
       "      <td>https://github.com/topics/cryptocurrency</td>\n",
       "    </tr>\n",
       "    <tr>\n",
       "      <th>29</th>\n",
       "      <td>Crystal</td>\n",
       "      <td>Crystal is a self-hosted, general purpose prog...</td>\n",
       "      <td>https://github.com/topics/crystal</td>\n",
       "    </tr>\n",
       "  </tbody>\n",
       "</table>\n",
       "</div>"
      ],
      "text/plain": [
       "                     title                                        description  \\\n",
       "0                       3D  3D refers to the use of three-dimensional grap...   \n",
       "1                     Ajax  Ajax is a technique for creating interactive w...   \n",
       "2                Algorithm  Algorithms are self-contained sequences that c...   \n",
       "3                      Amp  Amp is a non-blocking concurrency library for ...   \n",
       "4                  Android  Android is an operating system built by Google...   \n",
       "5                  Angular  Angular is an open source web application plat...   \n",
       "6                  Ansible  Ansible is a simple and powerful automation en...   \n",
       "7                      API  An API (Application Programming Interface) is ...   \n",
       "8                  Arduino  Arduino is an open source platform for buildin...   \n",
       "9                  ASP.NET  ASP.NET is a web framework for building modern...   \n",
       "10           Awesome Lists  An awesome list is a list of awesome things cu...   \n",
       "11     Amazon Web Services  Amazon Web Services provides on-demand cloud c...   \n",
       "12                   Azure  Azure is a cloud computing service created by ...   \n",
       "13                   Babel  Babel is a compiler for writing next generatio...   \n",
       "14                    Bash  Bash is a shell and command language interpret...   \n",
       "15                 Bitcoin  Bitcoin is a cryptocurrency developed by Satos...   \n",
       "16               Bootstrap  Bootstrap is an HTML, CSS, and JavaScript fram...   \n",
       "17                     Bot  A bot is an application that runs automated ta...   \n",
       "18                       C  C is a general purpose programming language th...   \n",
       "19                  Chrome  Chrome is a web browser from the tech company ...   \n",
       "20        Chrome extension  Chrome extensions enable users to customize th...   \n",
       "21  Command-line interface  A CLI, or command-line interface, is a console...   \n",
       "22                 Clojure  Clojure is a dynamic, general-purpose programm...   \n",
       "23            Code quality  Automate your code review with style, quality,...   \n",
       "24             Code review  Ensure your code meets quality standards and s...   \n",
       "25                Compiler  Compilers are software that translate higher-l...   \n",
       "26  Continuous integration  Automatically build and test your code as you ...   \n",
       "27                     C++  C++ is a general purpose and object-oriented p...   \n",
       "28          Cryptocurrency  A cryptocurrency is a digital currency that us...   \n",
       "29                 Crystal  Crystal is a self-hosted, general purpose prog...   \n",
       "\n",
       "                                                 url  \n",
       "0                       https://github.com/topics/3d  \n",
       "1                     https://github.com/topics/ajax  \n",
       "2                https://github.com/topics/algorithm  \n",
       "3                    https://github.com/topics/amphp  \n",
       "4                  https://github.com/topics/android  \n",
       "5                  https://github.com/topics/angular  \n",
       "6                  https://github.com/topics/ansible  \n",
       "7                      https://github.com/topics/api  \n",
       "8                  https://github.com/topics/arduino  \n",
       "9                   https://github.com/topics/aspnet  \n",
       "10                 https://github.com/topics/awesome  \n",
       "11                     https://github.com/topics/aws  \n",
       "12                   https://github.com/topics/azure  \n",
       "13                   https://github.com/topics/babel  \n",
       "14                    https://github.com/topics/bash  \n",
       "15                 https://github.com/topics/bitcoin  \n",
       "16               https://github.com/topics/bootstrap  \n",
       "17                     https://github.com/topics/bot  \n",
       "18                       https://github.com/topics/c  \n",
       "19                  https://github.com/topics/chrome  \n",
       "20        https://github.com/topics/chrome-extension  \n",
       "21                     https://github.com/topics/cli  \n",
       "22                 https://github.com/topics/clojure  \n",
       "23            https://github.com/topics/code-quality  \n",
       "24             https://github.com/topics/code-review  \n",
       "25                https://github.com/topics/compiler  \n",
       "26  https://github.com/topics/continuous-integration  \n",
       "27                     https://github.com/topics/cpp  \n",
       "28          https://github.com/topics/cryptocurrency  \n",
       "29                 https://github.com/topics/crystal  "
      ]
     },
     "execution_count": 50,
     "metadata": {},
     "output_type": "execute_result"
    }
   ],
   "source": [
    "scrape_topics()"
   ]
  },
  {
   "cell_type": "code",
   "execution_count": 51,
   "id": "de43bd05",
   "metadata": {},
   "outputs": [],
   "source": [
    "def scrape_topics_repo():\n",
    "    print('Scraping top topics and repo from github')\n",
    "    topics_df = scrape_topics()\n",
    "    \n",
    "    os.makedirs('data',exist_ok=True)\n",
    "    for index,row in topics_df.iterrows():\n",
    "        print('Scrapping top repositories for {}'.format(row['title']))\n",
    "        scrape_topic(row['url'],'data/{}.csv'.format(row['title']))"
   ]
  },
  {
   "cell_type": "code",
   "execution_count": 52,
   "id": "c4b08d96",
   "metadata": {},
   "outputs": [],
   "source": [
    "#scrape_topics_repo()\n",
    "#once you run the above code, there will a new csv file for every topic and \n",
    "#will be stored in the data folder of the current directory"
   ]
  },
  {
   "cell_type": "code",
   "execution_count": null,
   "id": "12f2dff6",
   "metadata": {},
   "outputs": [],
   "source": [
    "#how to save the work"
   ]
  },
  {
   "cell_type": "code",
   "execution_count": 261,
   "id": "a58ee233",
   "metadata": {},
   "outputs": [],
   "source": [
    "import os\n",
    "\n",
    "path = '/csvfolder'\n",
    "os.mkdir(path)"
   ]
  },
  {
   "cell_type": "code",
   "execution_count": 145,
   "id": "e97a3200",
   "metadata": {
    "scrolled": true
   },
   "outputs": [
    {
     "data": {
      "text/plain": [
       "101.0"
      ]
     },
     "execution_count": 145,
     "metadata": {},
     "output_type": "execute_result"
    }
   ],
   "source": [
    "#float(star_tags[0].text[:-1])"
   ]
  },
  {
   "cell_type": "code",
   "execution_count": 154,
   "id": "090c1df2",
   "metadata": {},
   "outputs": [
    {
     "data": {
      "text/plain": [
       "7000"
      ]
     },
     "execution_count": 154,
     "metadata": {},
     "output_type": "execute_result"
    }
   ],
   "source": [
    "#float(star_tags[-1].text[:-1]))*1000"
   ]
  },
  {
   "cell_type": "code",
   "execution_count": null,
   "id": "436f5a60",
   "metadata": {},
   "outputs": [],
   "source": []
  }
 ],
 "metadata": {
  "kernelspec": {
   "display_name": "Python 3 (ipykernel)",
   "language": "python",
   "name": "python3"
  },
  "language_info": {
   "codemirror_mode": {
    "name": "ipython",
    "version": 3
   },
   "file_extension": ".py",
   "mimetype": "text/x-python",
   "name": "python",
   "nbconvert_exporter": "python",
   "pygments_lexer": "ipython3",
   "version": "3.10.9"
  }
 },
 "nbformat": 4,
 "nbformat_minor": 5
}
